{
 "cells": [
  {
   "cell_type": "code",
   "execution_count": 3,
   "metadata": {},
   "outputs": [
    {
     "name": "stdout",
     "output_type": "stream",
     "text": [
      "Note: you may need to restart the kernel to use updated packages.\n"
     ]
    },
    {
     "name": "stderr",
     "output_type": "stream",
     "text": [
      "WARNING: You are using pip version 20.1.1; however, version 23.1.1 is available.\n",
      "You should consider upgrading via the 'c:\\Users\\Windows 10 Pro\\AppData\\Local\\Programs\\Python\\Python37\\python.exe -m pip install --upgrade pip' command.\n"
     ]
    }
   ],
   "source": [
    "pip install xlrd >= 1.0.0"
   ]
  },
  {
   "cell_type": "code",
   "execution_count": 5,
   "metadata": {},
   "outputs": [
    {
     "name": "stdout",
     "output_type": "stream",
     "text": [
      "16\n",
      "65536\n",
      "[['high', 'low', 'low', 'low', 'low', 'low', 'low', 'low', 'high', 'low', 'high', 'low', 'low', 'low', 'low', 'low'], ['high', 'low', 'low', 'low', 'low', 'low', 'low', 'low', 'high', 'low', 'high', 'low', 'low', 'low', 'low', 'high'], ['high', 'low', 'low', 'low', 'low', 'low', 'low', 'low', 'high', 'low', 'high', 'high', 'low', 'low', 'low', 'low'], ['high', 'low', 'low', 'low', 'low', 'low', 'low', 'low', 'high', 'low', 'high', 'high', 'low', 'low', 'low', 'high'], ['high', 'low', 'low', 'low', 'low', 'low', 'low', 'high', 'high', 'low', 'high', 'low', 'low', 'low', 'low', 'low'], ['high', 'low', 'low', 'low', 'low', 'low', 'low', 'high', 'high', 'low', 'high', 'low', 'low', 'low', 'low', 'high'], ['high', 'low', 'low', 'low', 'low', 'low', 'low', 'high', 'high', 'low', 'high', 'high', 'low', 'low', 'low', 'low'], ['high', 'low', 'low', 'low', 'low', 'low', 'low', 'high', 'high', 'low', 'high', 'high', 'low', 'low', 'low', 'high'], ['high', 'low', 'low', 'low', 'high', 'low', 'low', 'low', 'high', 'low', 'high', 'low', 'low', 'low', 'low', 'low'], ['high', 'low', 'low', 'low', 'high', 'low', 'low', 'low', 'high', 'low', 'high', 'low', 'low', 'low', 'low', 'high'], ['high', 'low', 'low', 'low', 'high', 'low', 'low', 'low', 'high', 'low', 'high', 'high', 'low', 'low', 'low', 'low'], ['high', 'low', 'low', 'low', 'high', 'low', 'low', 'low', 'high', 'low', 'high', 'high', 'low', 'low', 'low', 'high'], ['high', 'low', 'low', 'low', 'high', 'low', 'low', 'high', 'high', 'low', 'high', 'low', 'low', 'low', 'low', 'low'], ['high', 'low', 'low', 'low', 'high', 'low', 'low', 'high', 'high', 'low', 'high', 'low', 'low', 'low', 'low', 'high'], ['high', 'low', 'low', 'low', 'high', 'low', 'low', 'high', 'high', 'low', 'high', 'high', 'low', 'low', 'low', 'low'], ['high', 'low', 'low', 'low', 'high', 'low', 'low', 'high', 'high', 'low', 'high', 'high', 'low', 'low', 'low', 'high'], ['high', 'low', 'high', 'low', 'low', 'low', 'low', 'low', 'high', 'low', 'high', 'low', 'low', 'low', 'low', 'low'], ['high', 'low', 'high', 'low', 'low', 'low', 'low', 'low', 'high', 'low', 'high', 'low', 'low', 'low', 'low', 'high'], ['high', 'low', 'high', 'low', 'low', 'low', 'low', 'low', 'high', 'low', 'high', 'high', 'low', 'low', 'low', 'low'], ['high', 'low', 'high', 'low', 'low', 'low', 'low', 'low', 'high', 'low', 'high', 'high', 'low', 'low', 'low', 'high'], ['high', 'low', 'high', 'low', 'low', 'low', 'low', 'high', 'high', 'low', 'high', 'low', 'low', 'low', 'low', 'low'], ['high', 'low', 'high', 'low', 'low', 'low', 'low', 'high', 'high', 'low', 'high', 'low', 'low', 'low', 'low', 'high'], ['high', 'low', 'high', 'low', 'low', 'low', 'low', 'high', 'high', 'low', 'high', 'high', 'low', 'low', 'low', 'low'], ['high', 'low', 'high', 'low', 'low', 'low', 'low', 'high', 'high', 'low', 'high', 'high', 'low', 'low', 'low', 'high'], ['high', 'low', 'high', 'low', 'high', 'low', 'low', 'low', 'high', 'low', 'high', 'low', 'low', 'low', 'low', 'low'], ['high', 'low', 'high', 'low', 'high', 'low', 'low', 'low', 'high', 'low', 'high', 'low', 'low', 'low', 'low', 'high'], ['high', 'low', 'high', 'low', 'high', 'low', 'low', 'low', 'high', 'low', 'high', 'high', 'low', 'low', 'low', 'low'], ['high', 'low', 'high', 'low', 'high', 'low', 'low', 'low', 'high', 'low', 'high', 'high', 'low', 'low', 'low', 'high'], ['high', 'low', 'high', 'low', 'high', 'low', 'low', 'high', 'high', 'low', 'high', 'low', 'low', 'low', 'low', 'low'], ['high', 'low', 'high', 'low', 'high', 'low', 'low', 'high', 'high', 'low', 'high', 'low', 'low', 'low', 'low', 'high'], ['high', 'low', 'high', 'low', 'high', 'low', 'low', 'high', 'high', 'low', 'high', 'high', 'low', 'low', 'low', 'low'], ['high', 'low', 'high', 'low', 'high', 'low', 'low', 'high', 'high', 'low', 'high', 'high', 'low', 'low', 'low', 'high']]\n",
      "32\n"
     ]
    },
    {
     "data": {
      "text/plain": [
       "3"
      ]
     },
     "execution_count": 5,
     "metadata": {},
     "output_type": "execute_result"
    }
   ],
   "source": [
    "import sys\n",
    "import itertools\n",
    "import copy\n",
    "\n",
    "with(open(\"4Cat-Train.labeled\", \"r\")) as f:\n",
    "    trainDoc = f.read()\n",
    "\n",
    "# this fcn takes a document after read() and converts it into 2 lists-of-lists\n",
    "# first return is is is form df[row][column] and second is dfT[column][row]\n",
    "def dataframe(doc):\n",
    "    lines = doc.split(\"\\n\")\n",
    "\n",
    "    df = []\n",
    "\n",
    "    # read file into list of lists\n",
    "    for r in range(0, len(lines)):\n",
    "        # make sure it's not a null line\n",
    "        if lines[r] != \"\":\n",
    "            # split record into distinct attributes\n",
    "            attr = lines[r].split(\"\\t\")\n",
    "            # create an empty list to hold row contents\n",
    "            df.append([])\n",
    "            # iterate through each attr pair and only store the value\n",
    "            for c in range(0, len(attr)):\n",
    "                df[r].append(attr[c].split(\" \")[1].rstrip())\n",
    "\n",
    "    # get transposed df: dfT\n",
    "    dfT = []\n",
    "    for c in range(0, len(df[0])):\n",
    "        dfT.append([])\n",
    "        for r in range(0, len(df)):\n",
    "            dfT[c].append(df[r][c])\n",
    "\n",
    "    return df, dfT\n",
    "\n",
    "# first return is is is form df[row][column] and second is dfT[column][row]\n",
    "train, trainT = dataframe(trainDoc)\n",
    "\n",
    "# find input space size |x|\n",
    "xLen = 1\n",
    "# find unique values of each X input (exclude last output col)\n",
    "for attr in trainT[:len(trainT)-1]:\n",
    "    xLen *= len(set(attr))\n",
    "\n",
    "# find concept space size |C|\n",
    "cLen = 2 ** xLen\n",
    "\n",
    "# find hyp space size |h|\n",
    "hLen = 1\n",
    "for attr in trainT[:len(trainT)-1]:\n",
    "    hLen *= len(set(attr)) + 1\n",
    "# add null set case\n",
    "hLen += 1\n",
    "\n",
    "# output PART B 1-2\n",
    "sys.stdout.write(str(xLen)+\"\\n\")\n",
    "sys.stdout.write(str(cLen)+\"\\n\")\n",
    "\n",
    "# PART B3 List-Then-Eliminate\n",
    "\n",
    "# initialize  version space to set of all hypotheses\n",
    "\n",
    "# vs = []\n",
    "# # loop through each X col\n",
    "# for i in range(0, len(trainT)-1):\n",
    "#     vs.append([])\n",
    "#     # loop through each unique value in each X col\n",
    "#     for val in set(attr):\n",
    "#         vs[attr].append()\n",
    "#\n",
    "#\n",
    "\n",
    "vs_tuple = list(itertools.product([\"low\",\"high\"], repeat=xLen))\n",
    "\n",
    "i0 = list(set(trainT[0]))\n",
    "i1 = list(set(trainT[1]))\n",
    "i2 = list(set(trainT[2]))\n",
    "i3 = list(set(trainT[3]))\n",
    "\n",
    "catComb_tuple = list(itertools.product(i0, i1, i2, i3))\n",
    "\n",
    "vs = []\n",
    "for hyp in vs_tuple:\n",
    "    vs.append(list(hyp))\n",
    "\n",
    "catComb = []\n",
    "for hyp in catComb_tuple:\n",
    "    catComb.append(list(hyp))\n",
    "\n",
    "#using VS\n",
    "# train\n",
    "vs_trim = copy.deepcopy(vs)\n",
    "for obs in train:\n",
    "    xobs = obs[:len(obs)-1]\n",
    "    yobs = obs[len(obs)-1]\n",
    "    for x in range(0, len(catComb)):\n",
    "        if xobs == catComb[x]:\n",
    "            for concept in vs:\n",
    "                if yobs == \"high\" and concept[x] == \"low\":\n",
    "                    vs_trim.remove(concept)\n",
    "                        # print \"del\"\n",
    "                elif yobs == \"low\" and concept[x] == \"high\":\n",
    "                    vs_trim.remove(concept)\n",
    "                        # print \"del\"\n",
    "    vs = copy.deepcopy(vs_trim)\n",
    "\n",
    "print(vs)\n",
    "sys.stdout.write(str(len(vs))+\"\\n\")\n",
    "\n",
    "# # PART B4 - Testing\n",
    "# with(open(sys.argv[1], \"r\")) as f:\n",
    "#     testDoc = f.read()\n",
    "\n",
    "# test, testT = dataframe(testDoc)\n",
    "\n",
    "# for obs in test:\n",
    "#     xobs = obs[:len(obs)-1]\n",
    "#     yobs = obs[len(obs)-1]\n",
    "#     highcount = 0\n",
    "#     for x in range(0, len(catComb)):\n",
    "#         if xobs == catComb[x]:\n",
    "#             for c in vs:\n",
    "#                 if c[x] == \"high\":\n",
    "#                     highcount += 1\n",
    "#     lowcount = len(vs) - highcount\n",
    "#     sys.stdout.write(str(highcount)+\" \"+str(lowcount)+\"\\n\")"
   ]
  },
  {
   "cell_type": "code",
   "execution_count": null,
   "metadata": {},
   "outputs": [],
   "source": []
  },
  {
   "cell_type": "code",
   "execution_count": null,
   "metadata": {},
   "outputs": [],
   "source": []
  },
  {
   "cell_type": "code",
   "execution_count": null,
   "metadata": {},
   "outputs": [],
   "source": []
  }
 ],
 "metadata": {
  "kernelspec": {
   "display_name": "Python 3",
   "language": "python",
   "name": "python3"
  },
  "language_info": {
   "codemirror_mode": {
    "name": "ipython",
    "version": 3
   },
   "file_extension": ".py",
   "mimetype": "text/x-python",
   "name": "python",
   "nbconvert_exporter": "python",
   "pygments_lexer": "ipython3",
   "version": "3.7.9"
  },
  "orig_nbformat": 4
 },
 "nbformat": 4,
 "nbformat_minor": 2
}
