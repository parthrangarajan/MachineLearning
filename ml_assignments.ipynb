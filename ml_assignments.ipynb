{
 "cells": [
  {
   "cell_type": "code",
   "execution_count": 1,
   "metadata": {},
   "outputs": [],
   "source": [
    "import numpy as np\n",
    "import pandas as pd\n",
    "from sklearn.datasets import load_iris\n",
    "from sklearn.model_selection import train_test_split\n",
    "import matplotlib.pyplot as plt"
   ]
  },
  {
   "cell_type": "code",
   "execution_count": 5,
   "metadata": {},
   "outputs": [
    {
     "name": "stdout",
     "output_type": "stream",
     "text": [
      "41.166666666666664\n",
      "81.0\n"
     ]
    }
   ],
   "source": [
    "x=[43, 21, 25,42,57,59]\n",
    "y=[99, 65, 79, 75, 87, 81]\n",
    "def mean(arr):\n",
    "    sum= 0\n",
    "    for i in arr:\n",
    "        sum +=i\n",
    "    return sum/len(arr)\n",
    "print(mean(x))\n",
    "print(mean(y))"
   ]
  },
  {
   "cell_type": "code",
   "execution_count": 6,
   "metadata": {},
   "outputs": [
    {
     "data": {
      "text/plain": [
       "248.16666666666666"
      ]
     },
     "execution_count": 6,
     "metadata": {},
     "output_type": "execute_result"
    }
   ],
   "source": [
    "import math\n",
    "def variance(arr):\n",
    "    xhat= mean(arr)\n",
    "    sum= 0\n",
    "    for i in arr:\n",
    "        sum+=math.pow(i- xhat, 2)\n",
    "    return sum/(len(arr)-1)\n",
    "\n",
    "variance(x)"
   ]
  },
  {
   "cell_type": "code",
   "execution_count": 7,
   "metadata": {},
   "outputs": [
    {
     "name": "stdout",
     "output_type": "stream",
     "text": [
      "95.6\n"
     ]
    }
   ],
   "source": [
    "def covariance(arr1, arr2):\n",
    "    sum1 = 0\n",
    "    for i1 in range(len(arr1)):\n",
    "        sum1+= (arr1[i1]- mean(arr1))*(arr2[i1]- mean(arr2))\n",
    "    # for i2 in arr2:\n",
    "    #     sum2+= i2- mean(arr2)\n",
    "\n",
    "    return ((sum1)/(len(arr1)-1))\n",
    "\n",
    "print(covariance(x, y))"
   ]
  },
  {
   "cell_type": "code",
   "execution_count": 10,
   "metadata": {},
   "outputs": [
    {
     "data": {
      "text/plain": [
       "86.29905913978494"
      ]
     },
     "execution_count": 10,
     "metadata": {},
     "output_type": "execute_result"
    }
   ],
   "source": [
    "def regression_coeff(arr1, arr2, x_val):\n",
    "    b= int(covariance(arr1,arr2))/int(variance(arr1))\n",
    "    a= mean(arr2)- b*mean(arr1)\n",
    "    return (a + b*x_val)\n",
    "\n",
    "out= regression_coeff(x,y, 55)\n",
    "out"
   ]
  },
  {
   "attachments": {},
   "cell_type": "markdown",
   "metadata": {},
   "source": [
    "## Multiple linear regression starts here"
   ]
  },
  {
   "cell_type": "code",
   "execution_count": 41,
   "metadata": {},
   "outputs": [
    {
     "name": "stdout",
     "output_type": "stream",
     "text": [
      "(251, 15813, 62.75)\n",
      "(83, 1737, 20.75)\n",
      "(625, 98431, 156.25)\n",
      "(39425, 12919, 5194)\n"
     ]
    }
   ],
   "source": [
    "x1=[58, 60, 65, 68]\n",
    "x2=[20, 23, 22, 18]\n",
    "y=[138, 153, 157, 177]\n",
    "def sum_mean(arr):\n",
    "    sum, sum_sq= 0, 0\n",
    "    for i in arr:\n",
    "        sum +=i\n",
    "        sum_sq+= (i*i)\n",
    "    return sum, sum_sq, sum/len(arr)\n",
    "\n",
    "print(sum_mean(x1))\n",
    "print(sum_mean(x2))\n",
    "print(sum_mean(y))\n",
    "\n",
    "def sum_mul(arr, arr2, arr3):\n",
    "    x1_y, x2_y, x1_x2= 0, 0 ,0\n",
    "    for index in range(len(arr)):\n",
    "        x1_y+= arr[index]*arr3[index]\n",
    "        x2_y+= arr2[index]*arr3[index]\n",
    "        x1_x2+= arr[index]*arr2[index]\n",
    "\n",
    "    return x1_y, x2_y, x1_x2\n",
    "\n",
    "print(sum_mul(x1, x2, y))\n",
    "# print(sum_mean(x2))"
   ]
  },
  {
   "cell_type": "code",
   "execution_count": 39,
   "metadata": {},
   "outputs": [
    {
     "name": "stdout",
     "output_type": "stream",
     "text": [
      "(62.75, 14.75, 206.25, -49.75, -14.25)\n"
     ]
    }
   ],
   "source": [
    "def regression_sum(arr1, arr2, arr3):\n",
    "    sum_x1, sum_sq_x1, mean_x1=sum_mean(arr1)\n",
    "    sum_x2, sum_sq_x2, mean_x2=sum_mean(arr2)\n",
    "    sum_y, sum_sq_y, mean_y=sum_mean(arr3)\n",
    "    x1_y, x2_y, x1_x2= sum_mul(x1, x2, y)\n",
    "    \n",
    "    x1_sq= sum_sq_x1 - ((sum_x1*sum_x1)/len(arr1))\n",
    "    x2_sq= sum_sq_x2 - ((sum_x2*sum_x2)/len(arr2))\n",
    "    x1_y_sum= x1_y - ((sum_x1*sum_y)/len(arr3))\n",
    "    x2_y_sum= x2_y - ((sum_x2*sum_y)/len(arr3))\n",
    "    x1_x2_sum= x1_x2 - ((sum_x1*sum_x2)/len(arr3))\n",
    "    return x1_sq, x2_sq, x1_y_sum, x2_y_sum, x1_x2_sum\n",
    "\n",
    "print(regression_sum(x1, x2, y))"
   ]
  },
  {
   "cell_type": "code",
   "execution_count": 40,
   "metadata": {},
   "outputs": [
    {
     "name": "stdout",
     "output_type": "stream",
     "text": [
      "(3.2294117647058824, -0.2529411764705882, -41.14705882352942)\n"
     ]
    }
   ],
   "source": [
    "def calc_b(arr1, arr2, arr3):\n",
    "    x1_sq, x2_sq, x1_y_sum, x2_y_sum, x1_x2_sum= regression_sum(arr1, arr2, arr3)\n",
    "    x1_sum, x1_sq_sum, x1_mean =sum_mean(x1)\n",
    "    x2_sum, x2_sq_sum, x2_mean =sum_mean(x2)\n",
    "    y_sum, y_sq_sum, y_mean =sum_mean(y)\n",
    "\n",
    "    b1= ((x2_sq*x1_y_sum)-(x1_x2_sum*x2_y_sum))/((x1_sq*x2_sq)-(x1_x2_sum*x1_x2_sum))\n",
    "    b2= ((x1_sq*x2_y_sum)-(x1_x2_sum*x1_y_sum))/((x1_sq*x2_sq)-(x1_x2_sum*x1_x2_sum))\n",
    "    b0= y_mean - (b1* x1_mean) - (b2 * x2_mean)\n",
    "\n",
    "    return b1, b2, b0\n",
    "\n",
    "print(calc_b(x1, x2, y))\n"
   ]
  },
  {
   "attachments": {},
   "cell_type": "markdown",
   "metadata": {},
   "source": [
    "Mculloh-Pitts Model"
   ]
  },
  {
   "cell_type": "code",
   "execution_count": 1,
   "metadata": {},
   "outputs": [
    {
     "name": "stdout",
     "output_type": "stream",
     "text": [
      "Input vector:[0 1 1], Weight vector:[-1  1  1]\n"
     ]
    }
   ],
   "source": [
    "import numpy as np\n",
    "np.random.seed(seed=0)\n",
    "I = np.random.choice([0,1], 3)# generate random vector I, sampling from {0,1}\n",
    "W = np.random.choice([-1,1], 3) # generate random vector W, sampling from {-1,1} \n",
    "print(f'Input vector:{I}, Weight vector:{W}')"
   ]
  },
  {
   "cell_type": "code",
   "execution_count": 2,
   "metadata": {},
   "outputs": [
    {
     "name": "stdout",
     "output_type": "stream",
     "text": [
      "Dot product: 2\n"
     ]
    }
   ],
   "source": [
    "dot = I @ W\n",
    "print(f'Dot product: {dot}')\n",
    "\n",
    "def linear_threshold_gate(dot: int, T: float) -> int:\n",
    "    if dot >= T:\n",
    "        return 1\n",
    "    else:\n",
    "        return 0"
   ]
  },
  {
   "cell_type": "code",
   "execution_count": 4,
   "metadata": {},
   "outputs": [
    {
     "name": "stdout",
     "output_type": "stream",
     "text": [
      "Activation: 1\n",
      "Activation: 0\n"
     ]
    }
   ],
   "source": [
    "T = 1\n",
    "activation = linear_threshold_gate(dot, T)\n",
    "print(f'Activation: {activation}')\n",
    "\n",
    "T = 3\n",
    "activation = linear_threshold_gate(dot, T)\n",
    "print(f'Activation: {activation}')"
   ]
  },
  {
   "cell_type": "code",
   "execution_count": 7,
   "metadata": {},
   "outputs": [
    {
     "name": "stdout",
     "output_type": "stream",
     "text": [
      "basic table:\n",
      "[[0 0]\n",
      " [0 1]\n",
      " [1 0]\n",
      " [1 1]]\n",
      "weights: [1 1]\n"
     ]
    }
   ],
   "source": [
    "# Now boolean algebra\n",
    "basic_table = np.array([\n",
    "    [0,0], \n",
    "    [0,1], \n",
    "    [1,0], \n",
    "    [1,1] \n",
    "])\n",
    "\n",
    "print(f'basic table:\\n{basic_table}')\n",
    "\n",
    "weights = np.array([1,1])\n",
    "print(f'weights: {weights}')"
   ]
  },
  {
   "cell_type": "code",
   "execution_count": 12,
   "metadata": {},
   "outputs": [
    {
     "name": "stdout",
     "output_type": "stream",
     "text": [
      "Dot products: [0 1 1 2]\n",
      "Activation: 0\n",
      "Activation: 0\n",
      "Activation: 0\n",
      "Activation: 1\n"
     ]
    }
   ],
   "source": [
    "dot_products = basic_table @ weights\n",
    "print(f'Dot products: {dot_products}')\n",
    "\n",
    "T = 2\n",
    "for i in range(0,4):\n",
    "    activation = linear_threshold_gate(dot_products[i], T)\n",
    "    print(f'Activation: {activation}')"
   ]
  },
  {
   "cell_type": "code",
   "execution_count": null,
   "metadata": {},
   "outputs": [],
   "source": []
  }
 ],
 "metadata": {
  "kernelspec": {
   "display_name": "Python 3",
   "language": "python",
   "name": "python3"
  },
  "language_info": {
   "codemirror_mode": {
    "name": "ipython",
    "version": 3
   },
   "file_extension": ".py",
   "mimetype": "text/x-python",
   "name": "python",
   "nbconvert_exporter": "python",
   "pygments_lexer": "ipython3",
   "version": "3.7.9"
  },
  "orig_nbformat": 4,
  "vscode": {
   "interpreter": {
    "hash": "4b6213f62e3ce6b14c4f07c83aa0992528812f30a1cba1094b6ea2b37fb8633f"
   }
  }
 },
 "nbformat": 4,
 "nbformat_minor": 2
}
